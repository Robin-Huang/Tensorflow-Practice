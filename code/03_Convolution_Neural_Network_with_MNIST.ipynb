{
 "cells": [
  {
   "cell_type": "markdown",
   "metadata": {},
   "source": [
    "# MNIST 手寫數字辨識 - Convolution Neural Network"
   ]
  },
  {
   "cell_type": "code",
   "execution_count": 1,
   "metadata": {
    "collapsed": true
   },
   "outputs": [],
   "source": [
    "import numpy as np\n",
    "import tensorflow as tf\n",
    "import matplotlib.pyplot as plt"
   ]
  },
  {
   "cell_type": "markdown",
   "metadata": {},
   "source": [
    "載入 MNIST 資料集"
   ]
  },
  {
   "cell_type": "code",
   "execution_count": 2,
   "metadata": {},
   "outputs": [
    {
     "name": "stdout",
     "output_type": "stream",
     "text": [
      "Extracting MNIST_data/train-images-idx3-ubyte.gz\n",
      "Extracting MNIST_data/train-labels-idx1-ubyte.gz\n",
      "Extracting MNIST_data/t10k-images-idx3-ubyte.gz\n",
      "Extracting MNIST_data/t10k-labels-idx1-ubyte.gz\n"
     ]
    }
   ],
   "source": [
    "from tensorflow.examples.tutorials.mnist import input_data\n",
    "mnist = input_data.read_data_sets('MNIST_data/', one_hot = True)\n",
    "\n",
    "im_dim = mnist.train.images.shape[1] # 影像維度\n",
    "lb_dim = mnist.train.labels.shape[1] # 類別數量\n",
    "\n",
    "x  = tf.placeholder(tf.float32, [None, im_dim]) # 輸入資料\n",
    "y_ = tf.placeholder(tf.float32, [None, lb_dim]) # 實際結果"
   ]
  },
  {
   "cell_type": "markdown",
   "metadata": {},
   "source": [
    "將影像資料轉為四維資料 [numbers, width, height, channels]"
   ]
  },
  {
   "cell_type": "code",
   "execution_count": 3,
   "metadata": {
    "collapsed": true
   },
   "outputs": [],
   "source": [
    "x_image = tf.reshape(x, [-1, 28, 28, 1]) # -1 means automatically compute how many sets"
   ]
  },
  {
   "cell_type": "markdown",
   "metadata": {},
   "source": [
    "## 建立 Convolution Neural Network"
   ]
  },
  {
   "cell_type": "markdown",
   "metadata": {},
   "source": [
    "定義權重、偏差值初始化"
   ]
  },
  {
   "cell_type": "code",
   "execution_count": 4,
   "metadata": {
    "collapsed": true
   },
   "outputs": [],
   "source": [
    "def weight_variable(shape):\n",
    "    initial = tf.truncated_normal(shape, stddev = 0.1) # stddev = 標準差\n",
    "    return tf.Variable(initial)\n",
    "\n",
    "def bias_variable(shape):\n",
    "    initial = tf.constant(0.1, shape = shape)\n",
    "    return tf.Variable(initial)"
   ]
  },
  {
   "cell_type": "markdown",
   "metadata": {},
   "source": [
    "定義卷積層 與 池化層"
   ]
  },
  {
   "cell_type": "code",
   "execution_count": 5,
   "metadata": {
    "collapsed": true
   },
   "outputs": [],
   "source": [
    "def conv2d(x, W):\n",
    "    return tf.nn.conv2d(x, W, strides = [1, 1, 1, 1], padding = 'SAME') # strides = [1, x_movement, y_movement, 1]\n",
    "\n",
    "def max_pool_2x2(x):\n",
    "    return tf.nn.max_pool(x, ksize = [1, 2, 2, 1], strides = [1, 2, 2, 1], padding = 'SAME')"
   ]
  },
  {
   "cell_type": "markdown",
   "metadata": {},
   "source": [
    "### First Convolution Layer"
   ]
  },
  {
   "cell_type": "code",
   "execution_count": 6,
   "metadata": {
    "collapsed": true,
    "scrolled": true
   },
   "outputs": [],
   "source": [
    "W_conv1 = weight_variable([5, 5, 1, 32]) # [patch_width, patch_height, channels, feature map]\n",
    "b_conv1 = bias_variable([32]) # numbers of feature map\n",
    "h_conv1 = tf.nn.relu(conv2d(x_image, W_conv1) + b_conv1) # output size 28x28x32\n",
    "h_pool1 = max_pool_2x2(h_conv1) # output size 14x14x32"
   ]
  },
  {
   "cell_type": "markdown",
   "metadata": {},
   "source": [
    "### Second Convolution Layer"
   ]
  },
  {
   "cell_type": "code",
   "execution_count": 7,
   "metadata": {
    "collapsed": true
   },
   "outputs": [],
   "source": [
    "W_conv2 = weight_variable([5, 5, 32, 64])\n",
    "b_conv2 = bias_variable([64])\n",
    "h_conv2 = tf.nn.relu(conv2d(h_pool1, W_conv2) + b_conv2) # output size 14x14x64\n",
    "h_pool2 = max_pool_2x2(h_conv2) # output size 7x7x64"
   ]
  },
  {
   "cell_type": "markdown",
   "metadata": {},
   "source": [
    "將第二卷積層的輸出轉為一維資料，用於連接之後的全連接層"
   ]
  },
  {
   "cell_type": "code",
   "execution_count": 8,
   "metadata": {
    "collapsed": true
   },
   "outputs": [],
   "source": [
    "h_pool2_flat = tf.reshape(h_pool2, [-1, 7 * 7 * 64]) # [n_samples, 7, 7, 64] -> [n_samples, 7 * 7 * 64]"
   ]
  },
  {
   "cell_type": "markdown",
   "metadata": {},
   "source": [
    "### Fully Connective Layer"
   ]
  },
  {
   "cell_type": "code",
   "execution_count": 9,
   "metadata": {
    "collapsed": true
   },
   "outputs": [],
   "source": [
    "W_fc1 = weight_variable([7 * 7 * 64, 1024]) # input size 7*7*64, output size 1024\n",
    "b_fc1 = bias_variable([1024])\n",
    "h_fc1 = tf.nn.relu(tf.matmul(h_pool2_flat, W_fc1) + b_fc1) # output size 1024"
   ]
  },
  {
   "cell_type": "markdown",
   "metadata": {},
   "source": [
    "### Dropout"
   ]
  },
  {
   "cell_type": "code",
   "execution_count": 10,
   "metadata": {
    "collapsed": true,
    "scrolled": true
   },
   "outputs": [],
   "source": [
    "keep_prob  = tf.placeholder(tf.float32) # 決定神經元不變動的機率\n",
    "h_fc1_drop = tf.nn.dropout(h_fc1, keep_prob)"
   ]
  },
  {
   "cell_type": "markdown",
   "metadata": {},
   "source": [
    "### Output Layer"
   ]
  },
  {
   "cell_type": "code",
   "execution_count": 11,
   "metadata": {
    "collapsed": true
   },
   "outputs": [],
   "source": [
    "W_fc2 = weight_variable([1024, 10]) # input size 1024, output size 10\n",
    "b_fc2 = bias_variable([10])\n",
    "\n",
    "y_conv = tf.nn.softmax(tf.matmul(h_fc1_drop, W_fc2) + b_fc2) # 輸出結果"
   ]
  },
  {
   "cell_type": "markdown",
   "metadata": {
    "collapsed": true
   },
   "source": [
    "## 訓練與評估模型"
   ]
  },
  {
   "cell_type": "markdown",
   "metadata": {},
   "source": [
    "定義 loss function 為 cross_entropy"
   ]
  },
  {
   "cell_type": "code",
   "execution_count": 12,
   "metadata": {
    "scrolled": true
   },
   "outputs": [],
   "source": [
    "cross_entropy = tf.reduce_mean(-tf.reduce_sum(y_ * tf.log(y_conv), reduction_indices = [1]))"
   ]
  },
  {
   "cell_type": "markdown",
   "metadata": {},
   "source": [
    "定義最佳化方法為 ADAM最佳化演算法"
   ]
  },
  {
   "cell_type": "code",
   "execution_count": 13,
   "metadata": {
    "collapsed": true
   },
   "outputs": [],
   "source": [
    "train_step = tf.train.AdamOptimizer(1e-4).minimize(cross_entropy)"
   ]
  },
  {
   "cell_type": "markdown",
   "metadata": {},
   "source": [
    " 定義評估方法"
   ]
  },
  {
   "cell_type": "code",
   "execution_count": 14,
   "metadata": {
    "collapsed": true
   },
   "outputs": [],
   "source": [
    "correct_predict = tf.equal(tf.argmax(y_, 1), tf.argmax(y_conv, 1))\n",
    "accuracy = tf.reduce_mean(tf.cast(correct_predict, tf.float32))"
   ]
  },
  {
   "cell_type": "markdown",
   "metadata": {},
   "source": [
    "建立模型儲存器"
   ]
  },
  {
   "cell_type": "code",
   "execution_count": 15,
   "metadata": {
    "collapsed": true
   },
   "outputs": [],
   "source": [
    "saver = tf.train.Saver()"
   ]
  },
  {
   "cell_type": "markdown",
   "metadata": {},
   "source": [
    "初始化參數"
   ]
  },
  {
   "cell_type": "code",
   "execution_count": 16,
   "metadata": {
    "scrolled": true
   },
   "outputs": [],
   "source": [
    "init = tf.global_variables_initializer()"
   ]
  },
  {
   "cell_type": "markdown",
   "metadata": {},
   "source": [
    "啟動 Graph"
   ]
  },
  {
   "cell_type": "code",
   "execution_count": 17,
   "metadata": {
    "collapsed": true
   },
   "outputs": [],
   "source": [
    "sess = tf.Session()\n",
    "sess.run(init)"
   ]
  },
  {
   "cell_type": "markdown",
   "metadata": {},
   "source": [
    "### 訓練模型 & 顯示訓練過程"
   ]
  },
  {
   "cell_type": "code",
   "execution_count": 18,
   "metadata": {},
   "outputs": [
    {
     "name": "stdout",
     "output_type": "stream",
     "text": [
      "第 0 次 測試準確率: 0.10\n",
      "第 50 次 測試準確率: 0.71\n",
      "第 100 次 測試準確率: 0.83\n",
      "第 150 次 測試準確率: 0.87\n",
      "第 200 次 測試準確率: 0.89\n",
      "第 250 次 測試準確率: 0.91\n",
      "第 300 次 測試準確率: 0.91\n",
      "第 350 次 測試準確率: 0.92\n",
      "第 400 次 測試準確率: 0.92\n",
      "第 450 次 測試準確率: 0.94\n",
      "第 500 次 測試準確率: 0.94\n",
      "第 550 次 測試準確率: 0.94\n",
      "第 600 次 測試準確率: 0.94\n",
      "第 650 次 測試準確率: 0.95\n",
      "第 700 次 測試準確率: 0.95\n",
      "第 750 次 測試準確率: 0.95\n",
      "第 800 次 測試準確率: 0.95\n",
      "第 850 次 測試準確率: 0.96\n",
      "第 900 次 測試準確率: 0.96\n",
      "第 950 次 測試準確率: 0.96\n",
      "第 1000 次 測試準確率: 0.96\n",
      "第 1050 次 測試準確率: 0.96\n",
      "第 1100 次 測試準確率: 0.96\n",
      "第 1150 次 測試準確率: 0.96\n",
      "第 1200 次 測試準確率: 0.96\n",
      "第 1250 次 測試準確率: 0.96\n",
      "第 1300 次 測試準確率: 0.96\n",
      "第 1350 次 測試準確率: 0.97\n",
      "第 1400 次 測試準確率: 0.97\n",
      "第 1450 次 測試準確率: 0.97\n",
      "第 1500 次 測試準確率: 0.97\n",
      "第 1550 次 測試準確率: 0.97\n",
      "第 1600 次 測試準確率: 0.97\n",
      "第 1650 次 測試準確率: 0.97\n",
      "第 1700 次 測試準確率: 0.97\n",
      "第 1750 次 測試準確率: 0.97\n",
      "第 1800 次 測試準確率: 0.97\n",
      "第 1850 次 測試準確率: 0.97\n",
      "第 1900 次 測試準確率: 0.97\n",
      "第 1950 次 測試準確率: 0.97\n"
     ]
    }
   ],
   "source": [
    "itera     = 2000 # 訓練次數\n",
    "num_batch = 50   # 訓練的批次量\n",
    "for step in range(itera):\n",
    "    [batch_xs, batch_ys] = mnist.train.next_batch(num_batch)\n",
    "    sess.run(train_step, feed_dict = {x: batch_xs, y_: batch_ys, keep_prob: 0.5})\n",
    "    \n",
    "    if step % 50 == 0:\n",
    "        print('第 {0} 次 測試準確率: {1:.2f}'.format(step, sess.run(accuracy,feed_dict = {x: mnist.test.images, y_: mnist.test.labels, keep_prob: 1})))"
   ]
  },
  {
   "cell_type": "markdown",
   "metadata": {},
   "source": [
    "## 儲存模型"
   ]
  },
  {
   "cell_type": "code",
   "execution_count": 20,
   "metadata": {
    "collapsed": true
   },
   "outputs": [],
   "source": [
    "save_model = saver.save(sess, ('/models/mnist_cnn_%d.ckpt' % (itera)))"
   ]
  }
 ],
 "metadata": {
  "kernelspec": {
   "display_name": "Python 3",
   "language": "python",
   "name": "python3"
  },
  "language_info": {
   "codemirror_mode": {
    "name": "ipython",
    "version": 3.0
   },
   "file_extension": ".py",
   "mimetype": "text/x-python",
   "name": "python",
   "nbconvert_exporter": "python",
   "pygments_lexer": "ipython3",
   "version": "3.5.3"
  }
 },
 "nbformat": 4,
 "nbformat_minor": 0
}