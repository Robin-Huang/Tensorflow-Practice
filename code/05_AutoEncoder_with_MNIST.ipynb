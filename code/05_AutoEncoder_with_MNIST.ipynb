{
 "cells": [
  {
   "cell_type": "markdown",
   "metadata": {},
   "source": [
    "# AutoEncoder"
   ]
  },
  {
   "cell_type": "code",
   "execution_count": 31,
   "metadata": {
    "collapsed": true
   },
   "outputs": [],
   "source": [
    "import tensorflow as tf\n",
    "import matplotlib.pyplot as plt\n",
    "import os\n",
    "import numpy as np"
   ]
  },
  {
   "cell_type": "markdown",
   "metadata": {},
   "source": [
    "載入 MNIST 資料集"
   ]
  },
  {
   "cell_type": "code",
   "execution_count": 2,
   "metadata": {},
   "outputs": [
    {
     "name": "stdout",
     "output_type": "stream",
     "text": [
      "Extracting MNIST_data/train-images-idx3-ubyte.gz\n",
      "Extracting MNIST_data/train-labels-idx1-ubyte.gz\n",
      "Extracting MNIST_data/t10k-images-idx3-ubyte.gz\n",
      "Extracting MNIST_data/t10k-labels-idx1-ubyte.gz\n"
     ]
    }
   ],
   "source": [
    "from tensorflow.examples.tutorials.mnist import input_data\n",
    "mnist = input_data.read_data_sets('MNIST_data/', one_hot = True)\n",
    "\n",
    "im_dim = mnist.train.images.shape[1] # 影像維度\n",
    "lb_dim = mnist.train.labels.shape[1] # 類別數量"
   ]
  },
  {
   "cell_type": "markdown",
   "metadata": {},
   "source": [
    "## 建立 AutoEncoder"
   ]
  },
  {
   "cell_type": "markdown",
   "metadata": {},
   "source": [
    "定義權重、偏差值初始化"
   ]
  },
  {
   "cell_type": "code",
   "execution_count": 3,
   "metadata": {
    "collapsed": true
   },
   "outputs": [],
   "source": [
    "def weight_variable(shape, name):\n",
    "    init = tf.truncated_normal(shape = shape, stddev = 0.1)\n",
    "    return tf.Variable(init, name)\n",
    "\n",
    "def bias_variable(shape, name):\n",
    "    init = tf.constant(0.1, shape = shape)\n",
    "    return tf.Variable(init, name)"
   ]
  },
  {
   "cell_type": "markdown",
   "metadata": {},
   "source": [
    "定義 add_Layer"
   ]
  },
  {
   "cell_type": "code",
   "execution_count": 4,
   "metadata": {
    "collapsed": true
   },
   "outputs": [],
   "source": [
    "def add_Layer(x, w_shape, b_shape, w_name, b_name):\n",
    "    W = weight_variable(w_shape, w_name)\n",
    "    b = bias_variable(b_shape, b_name)\n",
    "    return tf.nn.relu(tf.matmul(x, W) + b)"
   ]
  },
  {
   "cell_type": "markdown",
   "metadata": {},
   "source": [
    "定義各層神經元數量"
   ]
  },
  {
   "cell_type": "code",
   "execution_count": 5,
   "metadata": {
    "collapsed": true
   },
   "outputs": [],
   "source": [
    "# 784 -> 300 -> 50 -> 5 -> 50 -> 300 -> 784\n",
    "n_hidden_1   = 300 # 第一層隱藏層\n",
    "n_hidden_2   = 50  # 第二層隱藏層\n",
    "n_code_layer = 5   # Code layer"
   ]
  },
  {
   "cell_type": "markdown",
   "metadata": {},
   "source": [
    "### Input Layer"
   ]
  },
  {
   "cell_type": "code",
   "execution_count": 6,
   "metadata": {
    "collapsed": true
   },
   "outputs": [],
   "source": [
    "x = tf.placeholder(tf.float32, shape = [None, im_dim])"
   ]
  },
  {
   "cell_type": "markdown",
   "metadata": {},
   "source": [
    "### Encoder Layers"
   ]
  },
  {
   "cell_type": "code",
   "execution_count": 7,
   "metadata": {
    "collapsed": true
   },
   "outputs": [],
   "source": [
    "e_layer1 = add_Layer(x       , [im_dim    , n_hidden_1]  , [n_hidden_1]  , 'encoder_w1', 'encoder_b1')\n",
    "e_layer2 = add_Layer(e_layer1, [n_hidden_1, n_hidden_2]  , [n_hidden_2]  , 'encoder_w2', 'encoder_b2')"
   ]
  },
  {
   "cell_type": "markdown",
   "metadata": {},
   "source": [
    "### Code Layer"
   ]
  },
  {
   "cell_type": "code",
   "execution_count": 8,
   "metadata": {
    "collapsed": true
   },
   "outputs": [],
   "source": [
    "c_layer  = add_Layer(e_layer2, [n_hidden_2, n_code_layer], [n_code_layer], 'encoder_w3', 'encoder_b3')"
   ]
  },
  {
   "cell_type": "markdown",
   "metadata": {},
   "source": [
    "### Decoder Layers"
   ]
  },
  {
   "cell_type": "code",
   "execution_count": 9,
   "metadata": {
    "collapsed": true
   },
   "outputs": [],
   "source": [
    "d_layer1 = add_Layer(c_layer , [n_code_layer, n_hidden_2], [n_hidden_2], 'decoder_w1', 'decoder_b1')\n",
    "d_layer2 = add_Layer(d_layer1, [n_hidden_2, n_hidden_1]  , [n_hidden_1], 'decoder_w2', 'decoder_b2')"
   ]
  },
  {
   "cell_type": "markdown",
   "metadata": {},
   "source": [
    "### Output Layer"
   ]
  },
  {
   "cell_type": "code",
   "execution_count": 10,
   "metadata": {
    "collapsed": true
   },
   "outputs": [],
   "source": [
    "output_layer = add_Layer(d_layer2, [n_hidden_1, im_dim], [im_dim], 'decoder_w3', 'decoder_b3')"
   ]
  },
  {
   "cell_type": "markdown",
   "metadata": {},
   "source": [
    "定義 loss function 為 mean square error"
   ]
  },
  {
   "cell_type": "code",
   "execution_count": 11,
   "metadata": {
    "collapsed": true
   },
   "outputs": [],
   "source": [
    "loss = tf.reduce_mean(tf.square(output_layer - x))"
   ]
  },
  {
   "cell_type": "markdown",
   "metadata": {},
   "source": [
    "定義 optimize function 為 ADAM最佳化演算法"
   ]
  },
  {
   "cell_type": "code",
   "execution_count": 12,
   "metadata": {
    "collapsed": true
   },
   "outputs": [],
   "source": [
    "optimizer = tf.train.AdamOptimizer(1e-4).minimize(loss)"
   ]
  },
  {
   "cell_type": "markdown",
   "metadata": {},
   "source": [
    "初始化參數"
   ]
  },
  {
   "cell_type": "code",
   "execution_count": 13,
   "metadata": {
    "collapsed": true
   },
   "outputs": [],
   "source": [
    "init = tf.global_variables_initializer()"
   ]
  },
  {
   "cell_type": "markdown",
   "metadata": {},
   "source": [
    "啟動 Graph"
   ]
  },
  {
   "cell_type": "code",
   "execution_count": 14,
   "metadata": {
    "collapsed": true
   },
   "outputs": [],
   "source": [
    "sess = tf.Session()\n",
    "sess.run(init)"
   ]
  },
  {
   "cell_type": "markdown",
   "metadata": {},
   "source": [
    "## 訓練模型 & 顯示訓練過程"
   ]
  },
  {
   "cell_type": "code",
   "execution_count": 15,
   "metadata": {
    "scrolled": true
   },
   "outputs": [
    {
     "name": "stdout",
     "output_type": "stream",
     "text": [
      "第 0 次訓練 loss: 0.11997522413730621\n",
      "第 100 次訓練 loss: 0.076759472489357\n",
      "第 200 次訓練 loss: 0.0748395249247551\n",
      "第 300 次訓練 loss: 0.07352744787931442\n",
      "第 400 次訓練 loss: 0.06890545785427094\n",
      "第 500 次訓練 loss: 0.06479353457689285\n",
      "第 600 次訓練 loss: 0.0629136711359024\n",
      "第 700 次訓練 loss: 0.061876170337200165\n",
      "第 800 次訓練 loss: 0.06144272908568382\n",
      "第 900 次訓練 loss: 0.060782596468925476\n",
      "第 1000 次訓練 loss: 0.06042668968439102\n",
      "第 1100 次訓練 loss: 0.06006632000207901\n",
      "第 1200 次訓練 loss: 0.05977906286716461\n",
      "第 1300 次訓練 loss: 0.0594635047018528\n",
      "第 1400 次訓練 loss: 0.05916906148195267\n",
      "第 1500 次訓練 loss: 0.05865063890814781\n",
      "第 1600 次訓練 loss: 0.05788678303360939\n",
      "第 1700 次訓練 loss: 0.05672334134578705\n",
      "第 1800 次訓練 loss: 0.055176202207803726\n",
      "第 1900 次訓練 loss: 0.05404770001769066\n",
      "訓練完成 loss: 0.05311662331223488\n"
     ]
    }
   ],
   "source": [
    "itera     = 2000 # 迭帶次數\n",
    "num_batch = 50   # 批次數量\n",
    "\n",
    "for step in range(itera):\n",
    "    [batch_xs, batch_ys] = mnist.train.next_batch(num_batch)\n",
    "    sess.run(optimizer, feed_dict = {x: batch_xs})\n",
    "    \n",
    "    if step % 100 == 0:\n",
    "        print('第 {} 次訓練 loss: {}'.format(step, sess.run(loss, feed_dict = {x: mnist.test.images})))\n",
    "    \n",
    "print('訓練完成 loss: {}'.format(sess.run(loss, feed_dict = {x: mnist.test.images})))"
   ]
  },
  {
   "cell_type": "markdown",
   "metadata": {},
   "source": [
    "### 儲存模型"
   ]
  },
  {
   "cell_type": "code",
   "execution_count": 20,
   "metadata": {},
   "outputs": [],
   "source": [
    "save_path = 'models/05'\n",
    "\n",
    "if not os.path.isdir(save_path):\n",
    "    os.makedirs(save_path) # 創建路徑\n",
    "    \n",
    "saver = tf.train.Saver()\n",
    "save = saver.save(sess, save_path + '/model_05.ckpt')"
   ]
  },
  {
   "cell_type": "markdown",
   "metadata": {},
   "source": [
    "### 顯示 AutoEncoder 訓練效果"
   ]
  },
  {
   "cell_type": "code",
   "execution_count": 35,
   "metadata": {},
   "outputs": [
    {
     "data": {
      "image/png": "[encoded data removed]",
      "text/plain": [
       "<matplotlib.figure.Figure at 0x19b80736dd8>"
      ]
     },
     "metadata": {},
     "output_type": "display_data"
    },
    {
     "data": {
      "image/png": "[encoded data removed]",
      "text/plain": [
       "<matplotlib.figure.Figure at 0x19b807e5668>"
      ]
     },
     "metadata": {},
     "output_type": "display_data"
    },
    {
     "data": {
      "image/png": "[encoded data removed]",
      "text/plain": [
       "<matplotlib.figure.Figure at 0x19b806c3f98>"
      ]
     },
     "metadata": {},
     "output_type": "display_data"
    },
    {
     "data": {
      "image/png": "[encoded data removed]",
      "text/plain": [
       "<matplotlib.figure.Figure at 0x19b807c5128>"
      ]
     },
     "metadata": {},
     "output_type": "display_data"
    },
    {
     "data": {
      "image/png": "[encoded data removed]",
      "text/plain": [
       "<matplotlib.figure.Figure at 0x19b806bb7b8>"
      ]
     },
     "metadata": {},
     "output_type": "display_data"
    }
   ],
   "source": [
    "for i in range(5):\n",
    "    # mnist.test.images[i,:] 只有一維 [784]\n",
    "    # x 是二維的[影像數量, 影像維度]，因此需增加維度 -> [1, 784]\n",
    "    input_im  = np.expand_dims(mnist.test.images[i,:], axis = 0)\n",
    "    output_im = sess.run(output_layer, feed_dict = {x: input_im})\n",
    "    \n",
    "    input_im  = np.reshape(input_im,  [28, 28])\n",
    "    output_im = np.reshape(output_im, [28, 28])\n",
    "    \n",
    "    compare_im = np.concatenate([input_im, output_im], axis = 1)\n",
    "    plt.imshow(compare_im)\n",
    "    plt.show()"
   ]
  }
 ],
 "metadata": {
  "kernelspec": {
   "display_name": "Python 3",
   "language": "python",
   "name": "python3"
  },
  "language_info": {
   "codemirror_mode": {
    "name": "ipython",
    "version": 3.0
   },
   "file_extension": ".py",
   "mimetype": "text/x-python",
   "name": "python",
   "nbconvert_exporter": "python",
   "pygments_lexer": "ipython3",
   "version": "3.5.3"
  }
 },
 "nbformat": 4,
 "nbformat_minor": 0
}