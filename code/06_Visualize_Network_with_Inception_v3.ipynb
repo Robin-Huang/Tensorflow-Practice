{
 "cells": [
  {
   "cell_type": "markdown",
   "metadata": {
    "collapsed": true
   },
   "source": [
    "# Visualize Network with Inception V3"
   ]
  },
  {
   "cell_type": "code",
   "execution_count": 11,
   "metadata": {
    "collapsed": true
   },
   "outputs": [],
   "source": [
    "import tensorflow as tf\n",
    "import os\n",
    "import shutil\n",
    "import wget\n",
    "import tarfile"
   ]
  },
  {
   "cell_type": "markdown",
   "metadata": {},
   "source": [
    "### Download incpetion v3 model\n",
    "檢查模型存放路徑"
   ]
  },
  {
   "cell_type": "code",
   "execution_count": 4,
   "metadata": {},
   "outputs": [],
   "source": [
    "save_path = 'models/inception_v3'\n",
    "if not os.path.isdir(save_path):\n",
    "    os.makedirs(save_path) # 創建路徑"
   ]
  },
  {
   "cell_type": "markdown",
   "metadata": {},
   "source": [
    "檢查模型是否已存在"
   ]
  },
  {
   "cell_type": "code",
   "execution_count": 14,
   "metadata": {
    "scrolled": false
   },
   "outputs": [
    {
     "name": "stdout",
     "output_type": "stream",
     "text": [
      "Download: inception-2015-12-05.tgz\n",
      "100% [....................................................] 88931400 / 88931400Unzip: inception-2015-12-05.tgz\n"
     ]
    }
   ],
   "source": [
    "modelName = 'inception-2015-12-05.tgz'\n",
    "modelPath = save_path + '/' + modelName\n",
    "\n",
    "url = 'http://download.tensorflow.org/models/image/imagenet/inception-2015-12-05.tgz'\n",
    "\n",
    "if not os.path.exists(modelPath):\n",
    "    print('Download: {}'.format(modelName))\n",
    "    wget.download(url)\n",
    "\n",
    "print('Unzip: {}'.format(modelName))\n",
    "tarfile.open(modelName, 'r:gz').extractall(save_path)\n",
    "\n",
    "shutil.move(modelName, modelPath)"
   ]
  },
  {
   "cell_type": "markdown",
   "metadata": {},
   "source": [
    "## TensorBoard"
   ]
  },
  {
   "cell_type": "code",
   "execution_count": 19,
   "metadata": {
    "collapsed": true
   },
   "outputs": [],
   "source": [
    "log_dir = 'logs/inception_v3'\n",
    "if not os.path.exists(log_dir):\n",
    "    os.makedirs(log_dir)"
   ]
  },
  {
   "cell_type": "markdown",
   "metadata": {},
   "source": [
    "載入Inception V3 模型"
   ]
  },
  {
   "cell_type": "code",
   "execution_count": 20,
   "metadata": {
    "collapsed": true
   },
   "outputs": [],
   "source": [
    "modelFile = save_path + '/' + 'classify_image_graph_def.pb'\n",
    "\n",
    "with tf.gfile.FastGFile(modelFile, 'rb') as f:\n",
    "    graph_def = tf.GraphDef()\n",
    "    graph_def.ParseFromString(f.read())\n",
    "    tf.import_graph_def(graph_def, name = '')"
   ]
  },
  {
   "cell_type": "markdown",
   "metadata": {},
   "source": [
    "儲存 tensorboard log 檔"
   ]
  },
  {
   "cell_type": "code",
   "execution_count": 21,
   "metadata": {
    "collapsed": true
   },
   "outputs": [],
   "source": [
    "sess = tf.Session()\n",
    "writer = tf.summary.FileWriter(log_dir, sess.graph)\n",
    "writer.close()"
   ]
  },
  {
   "cell_type": "markdown",
   "metadata": {},
   "source": [
    "打開 cmd 輸入:<br>\n",
    "$ tensorboard -- logdir logs/inception_v3<br>\n",
    "打開瀏覽器輸入顯示的地址"
   ]
  }
 ],
 "metadata": {
  "kernelspec": {
   "display_name": "Python 3",
   "language": "python",
   "name": "python3"
  },
  "language_info": {
   "codemirror_mode": {
    "name": "ipython",
    "version": 3
   },
   "file_extension": ".py",
   "mimetype": "text/x-python",
   "name": "python",
   "nbconvert_exporter": "python",
   "pygments_lexer": "ipython3",
   "version": "3.5.3"
  }
 },
 "nbformat": 4,
 "nbformat_minor": 2
}
